{
  "nbformat": 4,
  "nbformat_minor": 0,
  "metadata": {
    "colab": {
      "name": "Python_Algorithm.ipynb",
      "provenance": [],
      "collapsed_sections": [],
      "authorship_tag": "ABX9TyOJChjK3Yf8zu6VBgZTYuIs",
      "include_colab_link": true
    },
    "kernelspec": {
      "name": "python3",
      "display_name": "Python 3"
    },
    "language_info": {
      "name": "python"
    }
  },
  "cells": [
    {
      "cell_type": "markdown",
      "metadata": {
        "id": "view-in-github",
        "colab_type": "text"
      },
      "source": [
        "<a href=\"https://colab.research.google.com/github/JGH94/Python_Algorithm/blob/main/Python_Algorithm.ipynb\" target=\"_parent\"><img src=\"https://colab.research.google.com/assets/colab-badge.svg\" alt=\"Open In Colab\"/></a>"
      ]
    },
    {
      "cell_type": "code",
      "execution_count": null,
      "metadata": {
        "colab": {
          "base_uri": "https://localhost:8080/"
        },
        "id": "P7p14Y_HLZeK",
        "outputId": "9b4c2f71-624c-41e7-b7aa-9b7862f866c8"
      },
      "outputs": [
        {
          "output_type": "stream",
          "name": "stdout",
          "text": [
            "30\n",
            "150\n"
          ]
        }
      ],
      "source": [
        "#최대 공약수, 최소 공배수\n",
        "\n",
        "#유클리드 알고르즘 - 최대 공약수\n",
        "def Max_Value(A, B):  \n",
        "  while B != 0: \n",
        "    R = A % B  \n",
        "    A = B\n",
        "    B = R\n",
        "  return A\n",
        "\n",
        "#최소 공배수\n",
        "def Min_Value(A,B):\n",
        "  A = A * B // Max_Value(A,B)\n",
        "  return A\n",
        "\n",
        "print(Min_Value(10,30))\n",
        "print(Min_Value(6,25))"
      ]
    },
    {
      "cell_type": "code",
      "source": [
        "# 문자열에 포함된 인덱스 반환\n",
        "def string_matching(T, P):\n",
        "  for i in range(0, len(T)):\n",
        "     j = 0\n",
        "     while  j < len(P) and P[j] == T[i + j]:\n",
        "       j = j + 1 \n",
        "     if j == len(P): \n",
        "       return i \n",
        "  return -1 \n",
        "string_matching('hello','ll')"
      ],
      "metadata": {
        "colab": {
          "base_uri": "https://localhost:8080/"
        },
        "id": "MGXsCJeCbKzY",
        "outputId": "a69a89bc-2a9c-40ee-ea0b-6139868a4854"
      },
      "execution_count": null,
      "outputs": [
        {
          "output_type": "execute_result",
          "data": {
            "text/plain": [
              "2"
            ]
          },
          "metadata": {},
          "execution_count": 66
        }
      ]
    },
    {
      "cell_type": "code",
      "source": [
        "#DFS, BFS\n",
        " \n",
        "def DFS(graph, start, visited):   \n",
        "  if start not in visited:   \n",
        "    # 방문처리\n",
        "    visited.add(start) \n",
        "    print(start,end='') \n",
        "    # 접근한 부분 빼기\n",
        "    nbr = graph[start] - visited \n",
        "    for v in nbr:\n",
        "      # 반 복\n",
        "      DFS(graph, v, visited)   \n",
        "\n",
        "import queue\n",
        "def BFS(graph, start):\n",
        "  print(\"BFS : \", end='')\n",
        "  # 방문처리\n",
        "  visited = {start}\n",
        "  # 큐 생성\n",
        "  que = queue.Queue()\n",
        "  que.put(start) \n",
        "  while not que.empty():\n",
        "    #정점 v, 방문 출력\n",
        "    v = que.get()\n",
        "    print(v,end='')\n",
        "    # nbr = v인접 정점 - 방문 정점\n",
        "    nbr = graph[v] - visited \n",
        "    # nbr의 인접 정점 방문처리, 큐 삽입\n",
        "    for u in nbr:\n",
        "      visited.add(u)\n",
        "      que.put(u)\n",
        "   \n",
        "dict_ = {'A' : {'B', 'C'},\n",
        "         'B' : {\"A\", \"D\"},\n",
        "         \"C\" : {\"A\", \"D\", \"E\"},\n",
        "         \"D\" : {\"B\", \"C\", \"F\"},\n",
        "         \"E\" : {\"C\", \"G\", \"H\"},\n",
        "         \"F\" : {\"D\"},\n",
        "         \"G\" : {\"E\", \"H\"},\n",
        "         \"H\" : {\"E\", \"G\"}}\n",
        "\n",
        "# dict_ 가 이상하게 정렬돼서 들어간다..\n",
        "# 그래도 계산해보면 순서대로 잘 찾아서 들어감 \n",
        "print(dict_)\n",
        "print(\"DFS : \", end ='')\n",
        "DFS(dict_,\"A\",set())\n",
        "print()\n",
        "BFS(dict_,\"A\")\n"
      ],
      "metadata": {
        "colab": {
          "base_uri": "https://localhost:8080/"
        },
        "id": "e-DejD29li4U",
        "outputId": "936be6ca-c51f-4b64-e5ac-100ad0958e81"
      },
      "execution_count": null,
      "outputs": [
        {
          "output_type": "stream",
          "name": "stdout",
          "text": [
            "{'A': {'C', 'B'}, 'B': {'D', 'A'}, 'C': {'D', 'E', 'A'}, 'D': {'C', 'F', 'B'}, 'E': {'H', 'C', 'G'}, 'F': {'D'}, 'G': {'H', 'E'}, 'H': {'E', 'G'}}\n",
            "DFS : ACDFBEHG\n",
            "BFS : ACBDEFHG"
          ]
        }
      ]
    },
    {
      "cell_type": "code",
      "source": [
        "#이진 탐색, 정렬되어 있다는 가정\n",
        "#순환구조 \n",
        "def binary_Search_1(A, Key, Low, High):\n",
        "  if Low <= High:\n",
        "    mid_ = (Low+High) // 2\n",
        "    if Key ==A[mid_]:\n",
        "      return mid_\n",
        "    elif Key < A[mid_]:\n",
        "      return  binary_Search_1(A, Key, Low, mid_-1)\n",
        "    else:\n",
        "      return  binary_Search_1(A, Key, mid_+1, High)\n",
        "  return -1\n",
        "#반복구조\n",
        "def binary_Search_2(A, Key, Low, High):\n",
        "  while Low <= High:\n",
        "    mid_ = (Low+High) // 2\n",
        "    if Key == A[mid_]:\n",
        "      return mid_\n",
        "    elif Key < A[mid_]:\n",
        "      High = mid_ -1\n",
        "    else:\n",
        "      Low = mid_ +1\n",
        "  return -1\n",
        "list_ = [1,3,8,13,13,16,21,26,27,30,33,36,39,41,44,49]\n",
        "\n",
        "print(binary_Search_1(list_,33,0,len(list_)-1))\n",
        "print(binary_Search_2(list_,13,0,len(list_)-1))"
      ],
      "metadata": {
        "id": "L1mDctk2lluF",
        "colab": {
          "base_uri": "https://localhost:8080/"
        },
        "outputId": "6625dcff-a423-4ceb-c266-9748bd1eaa99"
      },
      "execution_count": null,
      "outputs": [
        {
          "output_type": "stream",
          "name": "stdout",
          "text": [
            "10\n",
            "3\n"
          ]
        }
      ]
    },
    {
      "cell_type": "code",
      "source": [
        "#숫자카드게임\n",
        "#2019 구각 교육기관 코딩테스트\n",
        "\n",
        "A,B = 2,4\n",
        "list_ = [[7,3,1,8],\n",
        "         [3,3,3,4]]\n",
        "re_ = 0\n",
        "for i in list_:\n",
        "  re_ = max(re_,min(i)) \n",
        "print(re_)"
      ],
      "metadata": {
        "colab": {
          "base_uri": "https://localhost:8080/"
        },
        "id": "FXgbByjcpHCs",
        "outputId": "393af0f1-c4a3-496f-f1b4-9d2879241d2d"
      },
      "execution_count": 6,
      "outputs": [
        {
          "output_type": "stream",
          "name": "stdout",
          "text": [
            "3\n"
          ]
        }
      ]
    },
    {
      "cell_type": "code",
      "source": [
        "# 1이 될 때 까지\n",
        "# 2018 E 기업 알고리즘 대회\n",
        "\n",
        "A, B = 27, 5\n",
        "D = 0\n",
        "while A >= B: \n",
        "  while A % B != 0:\n",
        "    A -= 1\n",
        "    D += 1\n",
        "  D += 1\n",
        "  C = A // B \n",
        "  A = C  \n",
        "print(A)\n",
        "while A > 1:\n",
        "  A -= 1\n",
        "  D += 1 \n",
        "print(D)\n"
      ],
      "metadata": {
        "colab": {
          "base_uri": "https://localhost:8080/"
        },
        "id": "ACrmP7LuCCcL",
        "outputId": "d42e0bdc-47a1-4da0-94f9-01d2f55bac4a"
      },
      "execution_count": 22,
      "outputs": [
        {
          "output_type": "stream",
          "name": "stdout",
          "text": [
            "1\n",
            "4\n"
          ]
        }
      ]
    },
    {
      "cell_type": "code",
      "source": [
        "# 상하좌우 ** 중요 **\n",
        " \n",
        "input_num_ = 5\n",
        "input_List = [\"R\",\"R\",\"R\",\"U\",\"D\",\"D\"]\n",
        "\n",
        "xd = [0,0,-1,1]\n",
        "yd = [1,-1,0,0]\n",
        "x,y = 1, 1\n",
        "\n",
        "list_ = [\"R\", \"L\", \"U\", \"D\"]\n",
        "\n",
        "A_list_ = [[0]* input_num_ for _ in range(input_num_)]\n",
        "\n",
        "for input_ in input_List:\n",
        "  for i in range(len(list_)):\n",
        "    if input_ == list_[i]:\n",
        "      nx = x + xd[i]\n",
        "      ny = y + yd[i]\n",
        "  if nx < 1 or ny < 1 or nx > input_num_ or ny > input_num_:\n",
        "    continue\n",
        "  x, y = nx, ny \n",
        "print(x,y)"
      ],
      "metadata": {
        "colab": {
          "base_uri": "https://localhost:8080/"
        },
        "id": "KOXHL5daCpbp",
        "outputId": "b69be2e5-5960-4c2e-a1af-5d0defcbb41b"
      },
      "execution_count": 34,
      "outputs": [
        {
          "output_type": "stream",
          "name": "stdout",
          "text": [
            "3 4\n"
          ]
        }
      ]
    },
    {
      "cell_type": "code",
      "source": [
        ""
      ],
      "metadata": {
        "id": "jxmHwQW-LB3I"
      },
      "execution_count": null,
      "outputs": []
    }
  ]
}